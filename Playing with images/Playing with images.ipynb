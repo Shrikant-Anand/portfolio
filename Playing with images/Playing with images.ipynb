{
 "cells": [
  {
   "cell_type": "markdown",
   "id": "78657658",
   "metadata": {},
   "source": [
    "# Processing of images"
   ]
  },
  {
   "cell_type": "markdown",
   "id": "adb34440",
   "metadata": {},
   "source": [
    "“Procesar imágenes con OpenCV”"
   ]
  },
  {
   "cell_type": "markdown",
   "id": "d09872b6",
   "metadata": {},
   "source": [
    "Empezamos cargando dos bibliotecas - cv2 (versión - '4.7.0') y numpy (versión - '1.24.1')"
   ]
  },
  {
   "cell_type": "code",
   "execution_count": 1,
   "id": "671686a5",
   "metadata": {},
   "outputs": [],
   "source": [
    "# Cargamos bibliotecas \n",
    "import cv2\n",
    "import numpy as np"
   ]
  },
  {
   "cell_type": "markdown",
   "id": "e17a7dd7",
   "metadata": {},
   "source": [
    "### 1. Leer y mostrar la imagen"
   ]
  },
  {
   "cell_type": "markdown",
   "id": "9ad75775",
   "metadata": {},
   "source": [
    "Aquí leemos la imagen \"tetris.jpg\" usando la función cv2.imread() y después la mostramos usando cv2.imshow()."
   ]
  },
  {
   "cell_type": "code",
   "execution_count": 2,
   "id": "179c95a7",
   "metadata": {},
   "outputs": [],
   "source": [
    "# Cargamos la imagen\n",
    "img1 = cv2.imread('tetris.jpg')\n",
    "\n",
    "cv2.imshow('tetris',img1)\n",
    "cv2.waitKey(0) \n",
    "cv2.destroyAllWindows()"
   ]
  },
  {
   "cell_type": "markdown",
   "id": "e9149c31",
   "metadata": {},
   "source": [
    "### 2. Convertir la imagen a escala de grises"
   ]
  },
  {
   "cell_type": "markdown",
   "id": "36363e3a",
   "metadata": {},
   "source": [
    "Convertimos la imagen a escala de grises. Para ello, utilizamos cv2.cvtcolor().Mostramos la imagen en una ventana llamada Gris y observamos que la imagen original ha sido convertida a escala de grises."
   ]
  },
  {
   "cell_type": "code",
   "execution_count": 3,
   "id": "056a5f49",
   "metadata": {},
   "outputs": [],
   "source": [
    "gris = cv2.cvtColor(img1, cv2.COLOR_BGR2GRAY)\n",
    "cv2.imshow('Gris',gris)\n",
    "cv2.waitKey(0) \n",
    "cv2.destroyAllWindows()"
   ]
  },
  {
   "cell_type": "markdown",
   "id": "a8f04026",
   "metadata": {},
   "source": [
    "### 3. Detección de bordes "
   ]
  },
  {
   "cell_type": "markdown",
   "id": "15a24be5",
   "metadata": {},
   "source": [
    "Detectamos bordes con el algoritmo de Canny. Fijamos los valores mínimo y máximo del umbral a 50 y 260 respectivamente. Como resultado, observamos los bordes de las 6 figuras en la imagen original."
   ]
  },
  {
   "cell_type": "code",
   "execution_count": 4,
   "id": "2c69a839",
   "metadata": {},
   "outputs": [],
   "source": [
    "#Aplicamos el filtro de Canny\n",
    "bordes = cv2.Canny(img1,50,260)\n",
    "cv2.imshow('Detección de bordes',bordes)\n",
    "cv2.waitKey(0) \n",
    "cv2.destroyAllWindows()"
   ]
  },
  {
   "cell_type": "markdown",
   "id": "eec9a9f6",
   "metadata": {},
   "source": [
    "### 4. Umbralización"
   ]
  },
  {
   "cell_type": "markdown",
   "id": "cd6104bd",
   "metadata": {},
   "source": [
    "Umbralizamos la imagen en escala de grises utilizando cv2.threshold() y con el estilo de la umbralización como cv2.THRESH_BINARY_INV. Como hemos utilizado 'INV' el parámetro en estilo, todos los píxeles por encima de 225 se ajustarán a cero y por debajo de 225 a 255. Esto se puede observar en la imagen resultante."
   ]
  },
  {
   "cell_type": "code",
   "execution_count": 5,
   "id": "2381cb48",
   "metadata": {},
   "outputs": [],
   "source": [
    "r, umbral = cv2.threshold(gris,225,255,cv2.THRESH_BINARY_INV)\n",
    "\n",
    "cv2.imshow('Imagen umbralizada', umbral)\n",
    "cv2.waitKey(0)\n",
    "cv2.destroyAllWindows()"
   ]
  },
  {
   "cell_type": "markdown",
   "id": "8b5d6d6b",
   "metadata": {},
   "source": [
    "### 5. Contornos"
   ]
  },
  {
   "cell_type": "markdown",
   "id": "9970d3f0",
   "metadata": {},
   "source": [
    "Aquí identificamos los contornos en la imagen umbralizada usando cv2.findContours(). \n",
    "A continuación dibujamos cada contorno uno a uno sobre la imagen original. \n",
    "Finalmente mostramos cuántos contornos hemos encontrado."
   ]
  },
  {
   "cell_type": "code",
   "execution_count": 6,
   "id": "94643a2a",
   "metadata": {},
   "outputs": [
    {
     "name": "stdout",
     "output_type": "stream",
     "text": [
      "He encontrado 6 objetos!\n"
     ]
    }
   ],
   "source": [
    "\n",
    "# Buscamos los contornos en la imagen\n",
    "contours, _ = cv2.findContours(umbral, cv2.RETR_EXTERNAL, cv2.CHAIN_APPROX_SIMPLE)\n",
    "# Copiamos la imagen original\n",
    "img2 = img1.copy() \n",
    "# Dibujamos cada contorno en la imagen original y contamos el número total de contornos\n",
    "count = 0\n",
    "for contour in contours:\n",
    "    # Dibujamos el contorno en la imagen original\n",
    "    cv2.drawContours(img2, [contour], 0, (0, 255, 0), 3)\n",
    "\n",
    "    # Mostramos la imagen y esperamos a que se pulse una tecla\n",
    "    cv2.imshow('Contour ' + str(count+1), img2)\n",
    "    cv2.waitKey(0)\n",
    "\n",
    "    # Incrementamos el recuento\n",
    "    count += 1\n",
    "\n",
    "# Mostramos el número total de contornos encontrados\n",
    "print(\"He encontrado\", count, \"objetos!\")\n",
    "\n",
    "# Destruye todas las ventanas\n",
    "cv2.destroyAllWindows()"
   ]
  },
  {
   "cell_type": "markdown",
   "id": "187f6f34",
   "metadata": {},
   "source": [
    "### 6. Erosión"
   ]
  },
  {
   "cell_type": "markdown",
   "id": "3e1c3526",
   "metadata": {},
   "source": [
    "Aplicamos erosión a la imagen umbralizada utilizando cv2.erode() y kernel para determinar la naturaleza de la operación. Observamos que el tamaño de las piezas se hace más pequeño."
   ]
  },
  {
   "cell_type": "code",
   "execution_count": 7,
   "id": "37a2dcf4",
   "metadata": {},
   "outputs": [],
   "source": [
    "# Erosión\n",
    "img2 = umbral.copy()\n",
    "kernel = np.ones((5,5),np.uint8)\n",
    "\n",
    "erode = cv2.erode(img2, kernel, iterations=3)\n",
    "cv2.imshow('Erosión', erode)\n",
    "cv2.waitKey(0)\n",
    "cv2.destroyAllWindows()"
   ]
  },
  {
   "cell_type": "markdown",
   "id": "3a59d162",
   "metadata": {},
   "source": [
    "### 7. Dilatación"
   ]
  },
  {
   "cell_type": "markdown",
   "id": "51ba7d44",
   "metadata": {},
   "source": [
    "Aplicamos dilatación a la imagen umbralizada utilizando cv2.dilate() y kernel para determinar la naturaleza de la operación.\n",
    "Observamos que el tamaño de las piezas aumenta."
   ]
  },
  {
   "cell_type": "code",
   "execution_count": 8,
   "id": "d23338c6",
   "metadata": {},
   "outputs": [],
   "source": [
    "# Dilatación\n",
    "dilate = cv2.dilate(img2, kernel, iterations=3)\n",
    "cv2.imshow('Dilatación', dilate)\n",
    "cv2.waitKey(0)\n",
    "cv2.destroyAllWindows()"
   ]
  },
  {
   "cell_type": "markdown",
   "id": "d1f23367",
   "metadata": {},
   "source": [
    "### 8. Suavizado"
   ]
  },
  {
   "cell_type": "markdown",
   "id": "7ba6eab0",
   "metadata": {},
   "source": [
    "Suavizamos la imagen aplicando el filtro promedio. Observamos que se han eliminado los ruidos de alta frecuencia y la imagen se ha suavizado."
   ]
  },
  {
   "cell_type": "code",
   "execution_count": 9,
   "id": "ed37571a",
   "metadata": {},
   "outputs": [],
   "source": [
    "#Suavizado\n",
    "blur = cv2.blur(img1,(3,3))\n",
    "cv2.imshow(\"Suavizado\",blur)\n",
    "k = cv2.waitKey(0)\n",
    "cv2.destroyAllWindows()"
   ]
  },
  {
   "cell_type": "markdown",
   "id": "a82b43a4",
   "metadata": {},
   "source": [
    "### 9. Máscara a la imagen"
   ]
  },
  {
   "cell_type": "markdown",
   "id": "6dfdae90",
   "metadata": {},
   "source": [
    "Aquí creamos una máscara usando la imagen umbralizada y la aplicamos a la imagen \"flor.jpg\". Para ello utilizamos cv2.bitwise_and().\n"
   ]
  },
  {
   "cell_type": "code",
   "execution_count": 10,
   "id": "632a65ec",
   "metadata": {},
   "outputs": [],
   "source": [
    "#Leemos la imagen\n",
    "img3 = cv2.imread('flor.jpg') \n",
    "\n",
    "#Creamos máscara\n",
    "mask = cv2.merge([umbral,umbral,umbral])\n",
    "\n",
    "#Redimensionamos a la imagen original\n",
    "img3 = cv2.resize(img3, (img1.shape[1], img1.shape[0]))\n",
    "\n",
    "#Aplicamos la máscara\n",
    "res = cv2.bitwise_and(img3, mask)\n",
    "\n",
    "cv2.imshow(\"Flor con máscara\",res)\n",
    "k = cv2.waitKey(0)\n",
    "cv2.destroyAllWindows()\n"
   ]
  }
 ],
 "metadata": {
  "kernelspec": {
   "display_name": "Python 3 (ipykernel)",
   "language": "python",
   "name": "python3"
  },
  "language_info": {
   "codemirror_mode": {
    "name": "ipython",
    "version": 3
   },
   "file_extension": ".py",
   "mimetype": "text/x-python",
   "name": "python",
   "nbconvert_exporter": "python",
   "pygments_lexer": "ipython3",
   "version": "3.11.0"
  }
 },
 "nbformat": 4,
 "nbformat_minor": 5
}
