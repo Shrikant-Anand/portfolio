{
 "cells": [
  {
   "cell_type": "code",
   "execution_count": 125,
   "id": "990cc219",
   "metadata": {},
   "outputs": [
    {
     "name": "stdout",
     "output_type": "stream",
     "text": [
      "Nombre: Donald Duck               \tDirección: donald@personajes.com\n",
      "Nombre: Odiseo                    \tDirección: odiseo@heroes.comomolo.com\n",
      "Nombre: Capitán Nemo              \tDirección: nemo@nautilus.com\n",
      "Nombre: D'Artagnan                \tDirección: d'artagnan@los.mosqueteros.net\n",
      "Nombre: Alonso Quijano el Bueno   \tDirección: quijote@caballeros.andantes.net\n",
      "Nombre: Blad el Empalador         \tDirección: blad@chupeton.org\n",
      "Nombre: Astérix el Galo           \tDirección: asterix@lagalia.org\n",
      "Nombre: Mickey Mouse              \tDirección: mickey@personajes.com\n",
      "Nombre: Rasputín                  \tDirección: rasputin@conspiration.com\n",
      "Nombre: Obélix el Galo            \tDirección: obelix@lagalia.org\n"
     ]
    }
   ],
   "source": [
    "import re\n",
    "import string\n",
    "\n",
    "# Leemos el fichero\n",
    "with open('Correo.txt', 'r') as f:\n",
    "    datos = f.read()\n",
    "    \n",
    "\n",
    "# Compilamos una expresión regular para que coincida con el nombre del remitentes y la dirección de correo (incluyendo los CC) \n",
    "remitentes = re.compile(r\"\"\"\n",
    "    From:       # Coincidir \"From:\" cabecera\n",
    "    \\s*         # Coincidir cero o más caracteres con espacios en blanco\n",
    "    (?P<nombre>.*?)   # Coincidir con el nombre del remitente (no codicioso)\n",
    "    \\s*         # Coincidir cero o más caracteres con espacios en blanco\n",
    "    <           # Coincidir símbolo \"<\"\n",
    "    (?P<correo>.*?)  # Coincidir con la dirección del correo del remitente (no codicioso)\n",
    "    >           # Coincidir símbolo \">\"\n",
    "\"\"\", re.VERBOSE)\n",
    "\n",
    "# Compilamos una expresión regular para que coincida con el nombre del destinatarios y la dirección de correo (incluyendo los CC) \n",
    "destinatarios = re.compile(r\"\"\"\n",
    "    (?:To|CC):  # Coincidir \"To:\" o \"CC:\" cabecera\n",
    "    \\s*         # Coincidir cero o más caracteres con espacios en blanco\n",
    "    (?P<nombre>.*?)   # Coincidir con el nombre del destinatario (no codicioso)\n",
    "    \\s*         # Coincidir cero o más caracteres con espacios en blanco\n",
    "    <           # Coincidir símbolo \"<\"\n",
    "    (?P<correo>.*?)  # Coincidir con la dirección del correo del destinatario (no codicioso)\n",
    "    >           # Coincidir símbolo \">\"\n",
    "\"\"\", re.VERBOSE)\n",
    "\n",
    "# Set vacío para almacenar pares de remitente y destinatario (utilizando set() y no list() para que sólo se almacenen valores únicos)\n",
    "pars = set()\n",
    "\n",
    "\n",
    "# Extraer información del remitente y el destinatario\n",
    "for match in remitentes.finditer(datos):\n",
    "    nombre = match.group('nombre').strip()      #recortamos espacio en blanco\n",
    "    correo = match.group('correo').strip('() ') #recortamos \"()\" \n",
    "    if nombre != 'El Profe':\n",
    "        pars.add((nombre, correo))             #actualicamos el set\n",
    "        \n",
    "for match in destinatarios.finditer(datos):\n",
    "    nombre = match.group('nombre').strip()\n",
    "    correo = match.group('correo').strip('() ')\n",
    "    if nombre != 'El Profe':\n",
    "        pars.add((nombre, correo))\n",
    "\n",
    "mona = string.Template(\"Nombre: $nombre_f \\tDirección: $correo\")\n",
    "\n",
    "# Mostramos la salida para cada par único nombre-dirección utilizando plantilla\n",
    "for nombre, correo in pars:\n",
    "    \n",
    "    nombre_f = f\"{nombre:<25}\"\n",
    "    print(mona.substitute(nombre_f=nombre_f, correo=correo))"
   ]
  },
  {
   "cell_type": "code",
   "execution_count": null,
   "id": "a1bba300",
   "metadata": {},
   "outputs": [],
   "source": []
  }
 ],
 "metadata": {
  "kernelspec": {
   "display_name": "Python 3 (ipykernel)",
   "language": "python",
   "name": "python3"
  },
  "language_info": {
   "codemirror_mode": {
    "name": "ipython",
    "version": 3
   },
   "file_extension": ".py",
   "mimetype": "text/x-python",
   "name": "python",
   "nbconvert_exporter": "python",
   "pygments_lexer": "ipython3",
   "version": "3.11.0"
  }
 },
 "nbformat": 4,
 "nbformat_minor": 5
}
